{
 "cells": [
  {
   "cell_type": "code",
   "execution_count": 1,
   "metadata": {
    "ExecuteTime": {
     "end_time": "2022-12-16T10:07:47.718431Z",
     "start_time": "2022-12-16T10:07:46.609845Z"
    }
   },
   "outputs": [],
   "source": [
    "#import thư viện \n",
    "import os\n",
    "import pandas as pd\n",
    "import numpy as np\n",
    "\n"
   ]
  },
  {
   "cell_type": "code",
   "execution_count": 2,
   "metadata": {
    "ExecuteTime": {
     "end_time": "2022-12-16T10:07:47.724457Z",
     "start_time": "2022-12-16T10:07:47.719431Z"
    }
   },
   "outputs": [],
   "source": [
    "\n",
    "def inputName(): #yêu cầu nhập tên file và thêm đuôi .txt\n",
    "    #kiểm tra xem người dung có nhập đúng dạng tên file \n",
    "    print(\"Which grade file do you want to open (Ex: class1 or class1.txt) ?\")\n",
    "    file_name = input()\n",
    "    \n",
    "\n",
    "    #chuan hoa ten file ma người dùng nhập vào thành đuôi .txt theo tên file dữ liệu trong Data Files\n",
    "    # vd class1 -> class1.txt\n",
    "    # nếu user nhập class1.txt thì giữ nguyên\n",
    "    for file in os.listdir(\"./Data Files/\"):\n",
    "        if file_name  == file :\n",
    "            return file_name\n",
    "    \n",
    "    file_name = file_name + \".txt\"\n",
    "    return file_name \n"
   ]
  },
  {
   "cell_type": "code",
   "execution_count": 3,
   "metadata": {
    "ExecuteTime": {
     "end_time": "2022-12-16T10:07:47.734437Z",
     "start_time": "2022-12-16T10:07:47.725431Z"
    }
   },
   "outputs": [],
   "source": [
    "\n",
    "def openGradeFile(file_name): #mở file đáp án của sinh viên và trả lại nội dung\n",
    "    \n",
    "    #mở file và bắt lỗi\n",
    "    try:\n",
    "        with open(\"./Data Files/\" +file_name ,\"r\") as grade_file:\n",
    "            print(\"Successfully open \" + file_name)\n",
    "            content = grade_file.read()\n",
    "    \n",
    "    except: \n",
    "        print(\"Sorry the file name \" + file_name + \" is not exist\\n\")\n",
    "        print(\"Make sure your file have the form of classN:\\n\" \n",
    "             \"For example: class1, class2, class3,...\\n\"\n",
    "             \"If you do, maybe your class is not in the DataFiles folder\")\n",
    "    \n",
    "    return content #trả lại nội dung file được mở ở kiểu string"
   ]
  },
  {
   "cell_type": "code",
   "execution_count": 4,
   "metadata": {
    "ExecuteTime": {
     "end_time": "2022-12-16T10:07:47.745462Z",
     "start_time": "2022-12-16T10:07:47.736436Z"
    }
   },
   "outputs": [],
   "source": [
    "def analyzeInvalid(content,file_name): #Phân tich file điểm số xem có bn invalid line\n",
    "    \n",
    "    #Cắt chuỗi content ở dấu xuống dòng thành list các chuỗi ID và đáp an\n",
    "    content = content.split('\\n')\n",
    "    valid_content = content[:] #tạo list nội dung sau khi lọc invalid line\n",
    "    print('*'*4 + 'ANALYZING' + '*'*4 +'\\n')\n",
    "    error = 0 #biến đếm số invalid line trong file txt\n",
    "\n",
    "    #Xét từng chuỗi ID và đáp án của học sinh\n",
    "    for paper_work in content:\n",
    "        answer = paper_work.split(',')\n",
    "        #kiểm tra định dạng mã số sinh viên\n",
    "        if ((answer[0][0] != 'N') or (len(answer[0]) != 9)):\n",
    "            print(\"Invalid line of data: N# is invalid\")\n",
    "            print(paper_work + '\\n')\n",
    "            error += 1\n",
    "            valid_content.remove(paper_work)\n",
    "        elif (answer[0][1:8].isdigit() == False):\n",
    "            print(\"Invalid line of data: N# is invalid\")\n",
    "            print(paper_work + '\\n')\n",
    "            error += 1\n",
    "            valid_content.remove(paper_work)\n",
    "    #kiểm tra số lượng câu trả lời\n",
    "        elif (len(answer) != 26):\n",
    "            print(\"Invalid line of data: does not contain exactly 26 values:\")\n",
    "            print(paper_work + '\\n')\n",
    "            error += 1\n",
    "            valid_content.remove(paper_work)\n",
    "    \n",
    "    \n",
    "    #in thông báo\n",
    "    if(error == 0):\n",
    "        print(\"No errors found!\\n\")\n",
    "        print('*'*4 + 'REPORT' + '*'*4 + '\\n')\n",
    "        print('Total valid lines of data: ' + str(len(content)) + '\\n')\n",
    "        print('Total invalid lines of data: 0\\n')\n",
    "        print('Enter a class to grade: ' + file_name + '\\n') \n",
    "    else:\n",
    "        print('*'*4 + 'REPORT' + '*'*4 + '\\n')\n",
    "        print('Total valid lines of data: ' + str(len(content) - error) + '\\n')\n",
    "        print('Total invalid lines of data: ' + str(error))\n",
    "    \n",
    "    return valid_content"
   ]
  },
  {
   "cell_type": "code",
   "execution_count": 5,
   "metadata": {
    "ExecuteTime": {
     "end_time": "2022-12-16T10:07:47.753437Z",
     "start_time": "2022-12-16T10:07:47.746431Z"
    }
   },
   "outputs": [],
   "source": [
    "def classgradeDescribe(valid_content): #Phân tích mean,mã,min,med và chấm điểm\n",
    "    \n",
    "    #Cắt chuỗi answer key thành list các đáp án đúng\n",
    "    answer_key = \"B,A,D,D,C,B,D,A,C,C,D,B,A,B,A,C,B,D,A,C,A,A,B,D,D\"\n",
    "    answer_key = answer_key.split(',')\n",
    "\n",
    "    #Từ điển chứa ID và đáp án\n",
    "    grade_dict = {'Student ID' : [], 'Grade' : []}\n",
    "\n",
    "    #Xét từng chuỗi ID và đáp án trong content\n",
    "    for paper_work in valid_content:\n",
    "        point = 0\n",
    "        answer = paper_work.split(',') #cắt chuỗi thành list ID và đáp án\n",
    "        answer_noID = answer[:] #Tạo clone của list answer\n",
    "        answer_noID.pop(0) #Loại bỏ ID của sinh viên ra khỏi list answer_noID\n",
    "        \n",
    "        #So sánh câu trả lời của sinh viên trong answer_noID với đáp án đúng trong key\n",
    "        #Tính điểm\n",
    "        for student_ans, correct_ans in zip(answer_noID,answer_key):\n",
    "            if student_ans == correct_ans:\n",
    "                point += 4\n",
    "            elif student_ans == '':\n",
    "                pass\n",
    "            elif (student_ans != correct_ans) and (student_ans != ''):\n",
    "                point -= 1\n",
    "        #Đưa ID và điểm tương ứng vào từ điển\n",
    "        grade_dict['Student ID'].append(answer[0])\n",
    "        grade_dict['Grade'].append(point)\n",
    "    #Chuyển từ điển thành DataFrame \n",
    "    grade_table = pd.DataFrame(grade_dict)\n",
    "    #In mean,max,min,range,med của điểm số\n",
    "    print(f\"Mean (Average) score of the class: {round(grade_table['Grade'].mean(),2)} \\n\")\n",
    "    print(f\"Highest score: {grade_table['Grade'].max()}\\n\")\n",
    "    print(f\"Lowest score: {grade_table['Grade'].min()}\\n\")\n",
    "    print(f\"Range of score: {grade_table['Grade'].max() - grade_table['Grade'].min()}\\n\")\n",
    "    print(f\"Median Score: {grade_table['Grade'].median()}\\n\")\n",
    "\n",
    "    return grade_table #trả lại bảng điểm kiểu DataFrame\n"
   ]
  },
  {
   "cell_type": "code",
   "execution_count": 6,
   "metadata": {
    "ExecuteTime": {
     "end_time": "2022-12-16T10:07:47.765957Z",
     "start_time": "2022-12-16T10:07:47.754438Z"
    }
   },
   "outputs": [],
   "source": [
    "def saveGradefile(file_name,grade_table): #lưu file điểm số sau khi chấm\n",
    "\n",
    "    save_name = file_name[0:file_name.rfind('.')] + \"_grades\" + \\\n",
    "                file_name[file_name.rfind('.'):]  \n",
    "    #lưu file vào thư mục hiện hành và bắt lỗi                        \n",
    "    try:\n",
    "        grade_table.to_csv(save_name.lower(), sep='\\t', index=False)\n",
    "        print(f\"A class grade file named :{save_name.lower()} is created in current folder\\n\"\n",
    "            \"Please go to your current folder to view it \\n\")\n",
    "    except:\n",
    "        print(f\"Cannot save {save_name} due to an unexpected problems\")"
   ]
  },
  {
   "cell_type": "code",
   "execution_count": 7,
   "metadata": {
    "ExecuteTime": {
     "end_time": "2022-12-16T10:07:47.774076Z",
     "start_time": "2022-12-16T10:07:47.766954Z"
    }
   },
   "outputs": [],
   "source": [
    "#hàm main()\n",
    "def main():\n",
    "\n",
    "    try:\n",
    "        file_name = inputName() #yêu cầu nhập tên file\n",
    "        content = openGradeFile(file_name) #mở file txt lưu nội dung vào biến content\n",
    "        \n",
    "        #chấm điểm và phân tích thống kê, lưu bảng điểm vào biến grade_table\n",
    "        grade_table = classgradeDescribe(analyzeInvalid(content,file_name)) \n",
    "    except:\n",
    "        print(\"Cannot analyze your grade file. Please try again\")\n",
    "    \n",
    "    try:    \n",
    "        #lưu file chấm điểm thư mục hiện hành                                 \n",
    "        saveGradefile(file_name,grade_table)\n",
    "    except:\n",
    "        print(\"Cannot save your grade file due to unexpected problems\")"
   ]
  },
  {
   "cell_type": "code",
   "execution_count": 8,
   "metadata": {
    "ExecuteTime": {
     "end_time": "2022-12-16T10:07:56.057215Z",
     "start_time": "2022-12-16T10:07:47.774953Z"
    }
   },
   "outputs": [
    {
     "name": "stdout",
     "output_type": "stream",
     "text": [
      "Which grade file do you want to open (Ex: class1 or class1.txt) ?\n",
      "class1\n",
      "Successfully open class1.txt\n",
      "****ANALYZING****\n",
      "\n",
      "No errors found!\n",
      "\n",
      "****REPORT****\n",
      "\n",
      "Total valid lines of data: 20\n",
      "\n",
      "Total invalid lines of data: 0\n",
      "\n",
      "Enter a class to grade: class1.txt\n",
      "\n",
      "Mean (Average) score of the class: 75.6 \n",
      "\n",
      "Highest score: 91\n",
      "\n",
      "Lowest score: 59\n",
      "\n",
      "Range of score: 32\n",
      "\n",
      "Median Score: 73.0\n",
      "\n",
      "A class grade file named :class1_grades.txt is created in current folder\n",
      "Please go to your current folder to view it \n",
      "\n"
     ]
    }
   ],
   "source": [
    "if __name__ == \"__main__\":\n",
    "    main()"
   ]
  },
  {
   "cell_type": "code",
   "execution_count": null,
   "metadata": {},
   "outputs": [],
   "source": []
  }
 ],
 "metadata": {
  "interpreter": {
   "hash": "ef7f9a8012d9131766e31894c279374cc63c73121ed4db3b9e67a294a4bf0e74"
  },
  "kernelspec": {
   "display_name": "Python 3 (ipykernel)",
   "language": "python",
   "name": "python3"
  },
  "language_info": {
   "codemirror_mode": {
    "name": "ipython",
    "version": 3
   },
   "file_extension": ".py",
   "mimetype": "text/x-python",
   "name": "python",
   "nbconvert_exporter": "python",
   "pygments_lexer": "ipython3",
   "version": "3.10.4"
  },
  "toc": {
   "base_numbering": 1,
   "nav_menu": {},
   "number_sections": true,
   "sideBar": true,
   "skip_h1_title": false,
   "title_cell": "Table of Contents",
   "title_sidebar": "Contents",
   "toc_cell": false,
   "toc_position": {},
   "toc_section_display": true,
   "toc_window_display": false
  },
  "varInspector": {
   "cols": {
    "lenName": 16,
    "lenType": 16,
    "lenVar": 40
   },
   "kernels_config": {
    "python": {
     "delete_cmd_postfix": "",
     "delete_cmd_prefix": "del ",
     "library": "var_list.py",
     "varRefreshCmd": "print(var_dic_list())"
    },
    "r": {
     "delete_cmd_postfix": ") ",
     "delete_cmd_prefix": "rm(",
     "library": "var_list.r",
     "varRefreshCmd": "cat(var_dic_list()) "
    }
   },
   "types_to_exclude": [
    "module",
    "function",
    "builtin_function_or_method",
    "instance",
    "_Feature"
   ],
   "window_display": false
  }
 },
 "nbformat": 4,
 "nbformat_minor": 2
}
